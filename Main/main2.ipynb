{
 "cells": [
  {
   "cell_type": "code",
   "execution_count": 35,
   "metadata": {},
   "outputs": [
    {
     "data": {
      "text/html": [
       "<div>\n",
       "<style scoped>\n",
       "    .dataframe tbody tr th:only-of-type {\n",
       "        vertical-align: middle;\n",
       "    }\n",
       "\n",
       "    .dataframe tbody tr th {\n",
       "        vertical-align: top;\n",
       "    }\n",
       "\n",
       "    .dataframe thead th {\n",
       "        text-align: right;\n",
       "    }\n",
       "</style>\n",
       "<table border=\"1\" class=\"dataframe\">\n",
       "  <thead>\n",
       "    <tr style=\"text-align: right;\">\n",
       "      <th></th>\n",
       "      <th>longitude</th>\n",
       "      <th>latitude</th>\n",
       "      <th>housing_median_age</th>\n",
       "      <th>total_rooms</th>\n",
       "      <th>total_bedrooms</th>\n",
       "      <th>population</th>\n",
       "      <th>households</th>\n",
       "      <th>median_income</th>\n",
       "      <th>median_house_value</th>\n",
       "      <th>ocean_proximity</th>\n",
       "    </tr>\n",
       "  </thead>\n",
       "  <tbody>\n",
       "    <tr>\n",
       "      <th>0</th>\n",
       "      <td>-122.23</td>\n",
       "      <td>37.88</td>\n",
       "      <td>41.0</td>\n",
       "      <td>880.0</td>\n",
       "      <td>129.0</td>\n",
       "      <td>322.0</td>\n",
       "      <td>126.0</td>\n",
       "      <td>8.3252</td>\n",
       "      <td>452600.0</td>\n",
       "      <td>NEAR BAY</td>\n",
       "    </tr>\n",
       "    <tr>\n",
       "      <th>1</th>\n",
       "      <td>-122.22</td>\n",
       "      <td>37.86</td>\n",
       "      <td>21.0</td>\n",
       "      <td>7099.0</td>\n",
       "      <td>1106.0</td>\n",
       "      <td>2401.0</td>\n",
       "      <td>1138.0</td>\n",
       "      <td>8.3014</td>\n",
       "      <td>358500.0</td>\n",
       "      <td>NEAR BAY</td>\n",
       "    </tr>\n",
       "    <tr>\n",
       "      <th>2</th>\n",
       "      <td>-122.24</td>\n",
       "      <td>37.85</td>\n",
       "      <td>52.0</td>\n",
       "      <td>1467.0</td>\n",
       "      <td>190.0</td>\n",
       "      <td>496.0</td>\n",
       "      <td>177.0</td>\n",
       "      <td>7.2574</td>\n",
       "      <td>352100.0</td>\n",
       "      <td>NEAR BAY</td>\n",
       "    </tr>\n",
       "    <tr>\n",
       "      <th>3</th>\n",
       "      <td>-122.25</td>\n",
       "      <td>37.85</td>\n",
       "      <td>52.0</td>\n",
       "      <td>1274.0</td>\n",
       "      <td>235.0</td>\n",
       "      <td>558.0</td>\n",
       "      <td>219.0</td>\n",
       "      <td>5.6431</td>\n",
       "      <td>341300.0</td>\n",
       "      <td>NEAR BAY</td>\n",
       "    </tr>\n",
       "    <tr>\n",
       "      <th>4</th>\n",
       "      <td>-122.25</td>\n",
       "      <td>37.85</td>\n",
       "      <td>52.0</td>\n",
       "      <td>1627.0</td>\n",
       "      <td>280.0</td>\n",
       "      <td>565.0</td>\n",
       "      <td>259.0</td>\n",
       "      <td>3.8462</td>\n",
       "      <td>342200.0</td>\n",
       "      <td>NEAR BAY</td>\n",
       "    </tr>\n",
       "  </tbody>\n",
       "</table>\n",
       "</div>"
      ],
      "text/plain": [
       "   longitude  latitude  housing_median_age  total_rooms  total_bedrooms  \\\n",
       "0    -122.23     37.88                41.0        880.0           129.0   \n",
       "1    -122.22     37.86                21.0       7099.0          1106.0   \n",
       "2    -122.24     37.85                52.0       1467.0           190.0   \n",
       "3    -122.25     37.85                52.0       1274.0           235.0   \n",
       "4    -122.25     37.85                52.0       1627.0           280.0   \n",
       "\n",
       "   population  households  median_income  median_house_value ocean_proximity  \n",
       "0       322.0       126.0         8.3252            452600.0        NEAR BAY  \n",
       "1      2401.0      1138.0         8.3014            358500.0        NEAR BAY  \n",
       "2       496.0       177.0         7.2574            352100.0        NEAR BAY  \n",
       "3       558.0       219.0         5.6431            341300.0        NEAR BAY  \n",
       "4       565.0       259.0         3.8462            342200.0        NEAR BAY  "
      ]
     },
     "execution_count": 35,
     "metadata": {},
     "output_type": "execute_result"
    }
   ],
   "source": [
    "#Main Project Stage 1: Data Science and Machine Learning\n",
    "# Import the required libraries\n",
    "\n",
    "import numpy as np\n",
    "import pandas as pd\n",
    "import seaborn as sns\n",
    "import matplotlib.pyplot as plt\n",
    "import sklearn\n",
    "import tensorflow as tf\n",
    "\n",
    "# Set sns theme to your preferred color palette\n",
    "sns.set_theme(palette = \"mako\")\n",
    "\n",
    "data = pd.read_csv('data/data-input.csv')  # read csv file\n",
    "data.to_csv(\"data/data.csv\",index=False)\n",
    "#data input is the data that I had previously cleaned before starting the assignment\n",
    "data = pd.read_csv(\"data/data.csv\") #pretty confused as to why the instructions ask for this, but I guess its not a big deal\n",
    "\n",
    "df = data.copy()  # create a copy to use for future reference, so I have a copy of my original dataset when needed\n",
    "\n",
    "data.head()\n",
    "#Cleaned data (now called data-input.csv) by hand beforehand before reading instructions, so my data is already good.\n",
    "#Will be skipping the pandas clean data step\n",
    "\n"
   ]
  },
  {
   "cell_type": "code",
   "execution_count": 36,
   "metadata": {},
   "outputs": [
    {
     "data": {
      "image/png": "[encoded data removed]",
      "text/plain": [
       "<Figure size 432x288 with 1 Axes>"
      ]
     },
     "metadata": {},
     "output_type": "display_data"
    }
   ],
   "source": [
    "#Histogram showing distribution of housing age in the market\n",
    "agehist = sns.histplot(data=df, x = \"housing_median_age\")\n",
    "fig = agehist.get_figure()\n",
    "fig.savefig(\"plots/plot1.png\") "
   ]
  },
  {
   "cell_type": "code",
   "execution_count": 37,
   "metadata": {},
   "outputs": [
    {
     "data": {
      "image/png": "[encoded data removed]",
      "text/plain": [
       "<Figure size 432x288 with 1 Axes>"
      ]
     },
     "metadata": {},
     "output_type": "display_data"
    }
   ],
   "source": [
    "#Visualization of relationship (and variation) in housing price based on its age\n",
    "age_value_lineplot = sns.lineplot(data=df, x = \"housing_median_age\", y = \"median_house_value\")\n",
    "fig = age_value_lineplot.get_figure()\n",
    "fig.savefig(\"plots/plot2.png\") "
   ]
  },
  {
   "cell_type": "code",
   "execution_count": 38,
   "metadata": {},
   "outputs": [
    {
     "data": {
      "image/png": "[encoded data removed]",
      "text/plain": [
       "<Figure size 432x288 with 1 Axes>"
      ]
     },
     "metadata": {},
     "output_type": "display_data"
    }
   ],
   "source": [
    "#Visualization of price distribution of houses in california\n",
    "house_value_histplot = sns.histplot(data=df, x = \"median_house_value\")\n",
    "fig = house_value_histplot.get_figure()\n",
    "fig.savefig(\"plots/plot3.png\") \n",
    "#Can see from output that a majority of the houses are from 150k to 250k"
   ]
  },
  {
   "cell_type": "markdown",
   "metadata": {},
   "source": [
    "Where the data came from.:\n",
    "\n",
    "https://www.kaggle.com/datasets/kathuman/housing\n",
    "I will be using the dataset on Housing Prices in California found on Kaggle with a creative Commons Public Domain License\n",
    "Description of data from creator: \n",
    "\"This dataset is based on data from the 1990 California Census, and incluides metrics such as the population, median income, and median housing proice for each block group in California.\n",
    "Block groups are the smallest geographical unit for which the US Census Bureau publishes sample data., and each block typically has between 600 to 3000 people.\"\n",
    "\n",
    "The goal I have with this dataset is to be able to get my model to guess the price of houses given all the other information.\n",
    "\n",
    "\n",
    "Challenges cleaning:\n",
    "\n",
    "One of the challenges I had cleaning was that the dataset was humongous (22k rows) so I worried that I missed some stuff while cleaning but overall it was pretty straightforward. I cleaned it by hand before starting the assignment, and the biggest issue was that there was a lot of data to delete by hand. There was a lot of cells that just had nothing inside it, so I had to delete the entire line, which meant I couldnt automate it with find and replace. But other than that, the data seems pretty clean, and there are some spots in the data that I might need to go back and change, but for now I think the data looks reliable, based on the distribution I've seen from my graphs. \n",
    "\n",
    "Three visualizations:\n",
    "\n",
    "plot1 is a distribution of the age of the house. We can see that california has a wide range of ages for their houses. But their seems to be a spike in houses that are around 20, 30, and 50+ years old. Overall I think the distribution in that column is pretty good, and should pose no issues in training my model.\n",
    "\n",
    "plot2 is a visualization of relationship (and variation) in housing price based on its age. One thing that bothered me in this, is that from the graph, the house prices seem to very a lot for some age groups, specifically ~10 years old and ~50 years old. I worry that this will have negative effects in the model, but at the same time, logically speaking this is a realistic scenario. As old houses that are still standing are likely to be very nice to begin with, and new houses that are being built are being built for many different types of people with different incomes, especially in california where there is a large amount of wealthy and average people concentrated in one area.\n",
    "\n",
    "plot3 is a visualization of price distribution of houses in california. I wanted to see where the price of houses was concentrated, this graph allowed me to see that a majority of the houses in california in the dataset are around $150k-250k. But there is also a sizeable amount of houses below and above that number. Which should pose as good variation to give model a wide range of information to make accurate estimates. \n",
    "\n",
    "Part 2 code begins after this report\n",
    "--"
   ]
  },
  {
   "cell_type": "code",
   "execution_count": 39,
   "metadata": {},
   "outputs": [
    {
     "data": {
      "text/plain": [
       "(20433, 10)"
      ]
     },
     "execution_count": 39,
     "metadata": {},
     "output_type": "execute_result"
    }
   ],
   "source": [
    "df.shape  # Will return the number of rows and columns"
   ]
  },
  {
   "cell_type": "code",
   "execution_count": 40,
   "metadata": {},
   "outputs": [
    {
     "name": "stdout",
     "output_type": "stream",
     "text": [
      "<class 'pandas.core.frame.DataFrame'>\n",
      "RangeIndex: 20433 entries, 0 to 20432\n",
      "Data columns (total 10 columns):\n",
      " #   Column              Non-Null Count  Dtype  \n",
      "---  ------              --------------  -----  \n",
      " 0   longitude           20433 non-null  float64\n",
      " 1   latitude            20433 non-null  float64\n",
      " 2   housing_median_age  20433 non-null  float64\n",
      " 3   total_rooms         20433 non-null  float64\n",
      " 4   total_bedrooms      20433 non-null  float64\n",
      " 5   population          20433 non-null  float64\n",
      " 6   households          20433 non-null  float64\n",
      " 7   median_income       20433 non-null  float64\n",
      " 8   median_house_value  20433 non-null  float64\n",
      " 9   ocean_proximity     20433 non-null  object \n",
      "dtypes: float64(9), object(1)\n",
      "memory usage: 1.6+ MB\n"
     ]
    }
   ],
   "source": [
    "df.info()  # Will inform you of the datatype of each variable, as well as if there are any null or missing values in each column"
   ]
  },
  {
   "cell_type": "code",
   "execution_count": 41,
   "metadata": {},
   "outputs": [
    {
     "data": {
      "text/html": [
       "<div>\n",
       "<style scoped>\n",
       "    .dataframe tbody tr th:only-of-type {\n",
       "        vertical-align: middle;\n",
       "    }\n",
       "\n",
       "    .dataframe tbody tr th {\n",
       "        vertical-align: top;\n",
       "    }\n",
       "\n",
       "    .dataframe thead th {\n",
       "        text-align: right;\n",
       "    }\n",
       "</style>\n",
       "<table border=\"1\" class=\"dataframe\">\n",
       "  <thead>\n",
       "    <tr style=\"text-align: right;\">\n",
       "      <th></th>\n",
       "      <th>count</th>\n",
       "      <th>mean</th>\n",
       "      <th>std</th>\n",
       "      <th>min</th>\n",
       "      <th>25%</th>\n",
       "      <th>50%</th>\n",
       "      <th>75%</th>\n",
       "      <th>max</th>\n",
       "    </tr>\n",
       "  </thead>\n",
       "  <tbody>\n",
       "    <tr>\n",
       "      <th>longitude</th>\n",
       "      <td>20433.0</td>\n",
       "      <td>-119.570689</td>\n",
       "      <td>2.003578</td>\n",
       "      <td>-124.3500</td>\n",
       "      <td>-121.8000</td>\n",
       "      <td>-118.4900</td>\n",
       "      <td>-118.010</td>\n",
       "      <td>-114.3100</td>\n",
       "    </tr>\n",
       "    <tr>\n",
       "      <th>latitude</th>\n",
       "      <td>20433.0</td>\n",
       "      <td>35.633221</td>\n",
       "      <td>2.136348</td>\n",
       "      <td>32.5400</td>\n",
       "      <td>33.9300</td>\n",
       "      <td>34.2600</td>\n",
       "      <td>37.720</td>\n",
       "      <td>41.9500</td>\n",
       "    </tr>\n",
       "    <tr>\n",
       "      <th>housing_median_age</th>\n",
       "      <td>20433.0</td>\n",
       "      <td>28.633094</td>\n",
       "      <td>12.591805</td>\n",
       "      <td>1.0000</td>\n",
       "      <td>18.0000</td>\n",
       "      <td>29.0000</td>\n",
       "      <td>37.000</td>\n",
       "      <td>52.0000</td>\n",
       "    </tr>\n",
       "    <tr>\n",
       "      <th>total_rooms</th>\n",
       "      <td>20433.0</td>\n",
       "      <td>2636.504233</td>\n",
       "      <td>2185.269567</td>\n",
       "      <td>2.0000</td>\n",
       "      <td>1450.0000</td>\n",
       "      <td>2127.0000</td>\n",
       "      <td>3143.000</td>\n",
       "      <td>39320.0000</td>\n",
       "    </tr>\n",
       "    <tr>\n",
       "      <th>total_bedrooms</th>\n",
       "      <td>20433.0</td>\n",
       "      <td>537.870553</td>\n",
       "      <td>421.385070</td>\n",
       "      <td>1.0000</td>\n",
       "      <td>296.0000</td>\n",
       "      <td>435.0000</td>\n",
       "      <td>647.000</td>\n",
       "      <td>6445.0000</td>\n",
       "    </tr>\n",
       "    <tr>\n",
       "      <th>population</th>\n",
       "      <td>20433.0</td>\n",
       "      <td>1424.946949</td>\n",
       "      <td>1133.208490</td>\n",
       "      <td>3.0000</td>\n",
       "      <td>787.0000</td>\n",
       "      <td>1166.0000</td>\n",
       "      <td>1722.000</td>\n",
       "      <td>35682.0000</td>\n",
       "    </tr>\n",
       "    <tr>\n",
       "      <th>households</th>\n",
       "      <td>20433.0</td>\n",
       "      <td>499.433465</td>\n",
       "      <td>382.299226</td>\n",
       "      <td>1.0000</td>\n",
       "      <td>280.0000</td>\n",
       "      <td>409.0000</td>\n",
       "      <td>604.000</td>\n",
       "      <td>6082.0000</td>\n",
       "    </tr>\n",
       "    <tr>\n",
       "      <th>median_income</th>\n",
       "      <td>20433.0</td>\n",
       "      <td>3.871162</td>\n",
       "      <td>1.899291</td>\n",
       "      <td>0.4999</td>\n",
       "      <td>2.5637</td>\n",
       "      <td>3.5365</td>\n",
       "      <td>4.744</td>\n",
       "      <td>15.0001</td>\n",
       "    </tr>\n",
       "    <tr>\n",
       "      <th>median_house_value</th>\n",
       "      <td>20433.0</td>\n",
       "      <td>206864.413155</td>\n",
       "      <td>115435.667099</td>\n",
       "      <td>14999.0000</td>\n",
       "      <td>119500.0000</td>\n",
       "      <td>179700.0000</td>\n",
       "      <td>264700.000</td>\n",
       "      <td>500001.0000</td>\n",
       "    </tr>\n",
       "  </tbody>\n",
       "</table>\n",
       "</div>"
      ],
      "text/plain": [
       "                      count           mean            std         min  \\\n",
       "longitude           20433.0    -119.570689       2.003578   -124.3500   \n",
       "latitude            20433.0      35.633221       2.136348     32.5400   \n",
       "housing_median_age  20433.0      28.633094      12.591805      1.0000   \n",
       "total_rooms         20433.0    2636.504233    2185.269567      2.0000   \n",
       "total_bedrooms      20433.0     537.870553     421.385070      1.0000   \n",
       "population          20433.0    1424.946949    1133.208490      3.0000   \n",
       "households          20433.0     499.433465     382.299226      1.0000   \n",
       "median_income       20433.0       3.871162       1.899291      0.4999   \n",
       "median_house_value  20433.0  206864.413155  115435.667099  14999.0000   \n",
       "\n",
       "                            25%          50%         75%          max  \n",
       "longitude             -121.8000    -118.4900    -118.010    -114.3100  \n",
       "latitude                33.9300      34.2600      37.720      41.9500  \n",
       "housing_median_age      18.0000      29.0000      37.000      52.0000  \n",
       "total_rooms           1450.0000    2127.0000    3143.000   39320.0000  \n",
       "total_bedrooms         296.0000     435.0000     647.000    6445.0000  \n",
       "population             787.0000    1166.0000    1722.000   35682.0000  \n",
       "households             280.0000     409.0000     604.000    6082.0000  \n",
       "median_income            2.5637       3.5365       4.744      15.0001  \n",
       "median_house_value  119500.0000  179700.0000  264700.000  500001.0000  "
      ]
     },
     "execution_count": 41,
     "metadata": {},
     "output_type": "execute_result"
    }
   ],
   "source": [
    "df.describe().T # Describe the data-frame (transposed) - defaults to describing only numerical\n",
    "# If you want to describe all, run the following command:\n",
    "# data.describe(include = \"all\").T\n"
   ]
  },
  {
   "cell_type": "code",
   "execution_count": 42,
   "metadata": {},
   "outputs": [
    {
     "data": {
      "text/plain": [
       "longitude             0\n",
       "latitude              0\n",
       "housing_median_age    0\n",
       "total_rooms           0\n",
       "total_bedrooms        0\n",
       "population            0\n",
       "households            0\n",
       "median_income         0\n",
       "median_house_value    0\n",
       "ocean_proximity       0\n",
       "dtype: int64"
      ]
     },
     "execution_count": 42,
     "metadata": {},
     "output_type": "execute_result"
    }
   ],
   "source": [
    "df.isnull().sum()  # Checking for null values\n",
    "# In this case there are no null values. If there are some, you can use a heatmap to visualize them if you want."
   ]
  },
  {
   "cell_type": "code",
   "execution_count": 43,
   "metadata": {},
   "outputs": [
    {
     "name": "stdout",
     "output_type": "stream",
     "text": [
      "ocean_proximity -\n",
      "NEAR BAY: 3\n",
      "<1H OCEAN: 0\n",
      "INLAND: 1\n",
      "NEAR OCEAN: 4\n",
      "ISLAND: 2\n",
      "\n"
     ]
    }
   ],
   "source": [
    "#Organizing categorical data\n",
    "#Citation is from Joweria's heartdisease tutorial notebook\n",
    "from pandas.core.arrays import categorical \n",
    "#my df is joweria data, my df is joweria data\n",
    "categorical_data = [\"ocean_proximity\"]\n",
    "\n",
    "codes = {}  # Create a dictionary to store the codes of the conversion\n",
    "for i in df:  # For each variable in the data frame \n",
    "  if i in categorical_data:  # For each variable that was classified as categorical\n",
    "    specific_codes = {}  # Create a dictionary for that variable's code conversion \n",
    "    df[i] = df[i].astype(\"category\")  # Convert that variable from 'object' datatype to category\n",
    "    df[i] = df[i].cat.codes  # Create codes for the categories and replace in the dataset \n",
    "    coded = df[i].unique()  # Get the unique values (the codes) from the variable\n",
    "    count = 0  # Count initialized. Later used for accessing specific indexes\n",
    "    for j in data[i].unique():  # For each unique value\n",
    "      specific_codes[j] = coded[count]  # Create an item in the dictionary with the value, and tell it which code correlates\n",
    "      count += 1  # Count incremented\n",
    "    codes[i] = specific_codes  # Create a new item in the overall dictionary with the dictionary created for this specific variable's codes\n",
    "\n",
    "\n",
    "# View our created dictionary:\n",
    "for i in codes:\n",
    "  print(\"{} -\".format(i))\n",
    "  for j in codes[i]:\n",
    "    print(\"{}: {}\".format(j, codes[i][j]))\n",
    "  print()"
   ]
  },
  {
   "cell_type": "code",
   "execution_count": 44,
   "metadata": {},
   "outputs": [
    {
     "data": {
      "text/html": [
       "<div>\n",
       "<style scoped>\n",
       "    .dataframe tbody tr th:only-of-type {\n",
       "        vertical-align: middle;\n",
       "    }\n",
       "\n",
       "    .dataframe tbody tr th {\n",
       "        vertical-align: top;\n",
       "    }\n",
       "\n",
       "    .dataframe thead th {\n",
       "        text-align: right;\n",
       "    }\n",
       "</style>\n",
       "<table border=\"1\" class=\"dataframe\">\n",
       "  <thead>\n",
       "    <tr style=\"text-align: right;\">\n",
       "      <th></th>\n",
       "      <th>longitude</th>\n",
       "      <th>latitude</th>\n",
       "      <th>housing_median_age</th>\n",
       "      <th>total_rooms</th>\n",
       "      <th>total_bedrooms</th>\n",
       "      <th>population</th>\n",
       "      <th>households</th>\n",
       "      <th>median_income</th>\n",
       "      <th>median_house_value</th>\n",
       "      <th>ocean_proximity</th>\n",
       "    </tr>\n",
       "  </thead>\n",
       "  <tbody>\n",
       "    <tr>\n",
       "      <th>0</th>\n",
       "      <td>-122.23</td>\n",
       "      <td>37.88</td>\n",
       "      <td>41.0</td>\n",
       "      <td>880.0</td>\n",
       "      <td>129.0</td>\n",
       "      <td>322.0</td>\n",
       "      <td>126.0</td>\n",
       "      <td>8.3252</td>\n",
       "      <td>452600.0</td>\n",
       "      <td>3</td>\n",
       "    </tr>\n",
       "    <tr>\n",
       "      <th>1</th>\n",
       "      <td>-122.22</td>\n",
       "      <td>37.86</td>\n",
       "      <td>21.0</td>\n",
       "      <td>7099.0</td>\n",
       "      <td>1106.0</td>\n",
       "      <td>2401.0</td>\n",
       "      <td>1138.0</td>\n",
       "      <td>8.3014</td>\n",
       "      <td>358500.0</td>\n",
       "      <td>3</td>\n",
       "    </tr>\n",
       "    <tr>\n",
       "      <th>2</th>\n",
       "      <td>-122.24</td>\n",
       "      <td>37.85</td>\n",
       "      <td>52.0</td>\n",
       "      <td>1467.0</td>\n",
       "      <td>190.0</td>\n",
       "      <td>496.0</td>\n",
       "      <td>177.0</td>\n",
       "      <td>7.2574</td>\n",
       "      <td>352100.0</td>\n",
       "      <td>3</td>\n",
       "    </tr>\n",
       "    <tr>\n",
       "      <th>3</th>\n",
       "      <td>-122.25</td>\n",
       "      <td>37.85</td>\n",
       "      <td>52.0</td>\n",
       "      <td>1274.0</td>\n",
       "      <td>235.0</td>\n",
       "      <td>558.0</td>\n",
       "      <td>219.0</td>\n",
       "      <td>5.6431</td>\n",
       "      <td>341300.0</td>\n",
       "      <td>3</td>\n",
       "    </tr>\n",
       "    <tr>\n",
       "      <th>4</th>\n",
       "      <td>-122.25</td>\n",
       "      <td>37.85</td>\n",
       "      <td>52.0</td>\n",
       "      <td>1627.0</td>\n",
       "      <td>280.0</td>\n",
       "      <td>565.0</td>\n",
       "      <td>259.0</td>\n",
       "      <td>3.8462</td>\n",
       "      <td>342200.0</td>\n",
       "      <td>3</td>\n",
       "    </tr>\n",
       "  </tbody>\n",
       "</table>\n",
       "</div>"
      ],
      "text/plain": [
       "   longitude  latitude  housing_median_age  total_rooms  total_bedrooms  \\\n",
       "0    -122.23     37.88                41.0        880.0           129.0   \n",
       "1    -122.22     37.86                21.0       7099.0          1106.0   \n",
       "2    -122.24     37.85                52.0       1467.0           190.0   \n",
       "3    -122.25     37.85                52.0       1274.0           235.0   \n",
       "4    -122.25     37.85                52.0       1627.0           280.0   \n",
       "\n",
       "   population  households  median_income  median_house_value  ocean_proximity  \n",
       "0       322.0       126.0         8.3252            452600.0                3  \n",
       "1      2401.0      1138.0         8.3014            358500.0                3  \n",
       "2       496.0       177.0         7.2574            352100.0                3  \n",
       "3       558.0       219.0         5.6431            341300.0                3  \n",
       "4       565.0       259.0         3.8462            342200.0                3  "
      ]
     },
     "execution_count": 44,
     "metadata": {},
     "output_type": "execute_result"
    }
   ],
   "source": [
    "df.head()\n",
    "#Checking that data is no longer categorical and now an integer at the end"
   ]
  },
  {
   "cell_type": "code",
   "execution_count": 51,
   "metadata": {},
   "outputs": [],
   "source": [
    "from sklearn.model_selection import train_test_split\n",
    "from sklearn.preprocessing import RobustScaler\n",
    "fs_data = df.copy() # copy of dataset for feature selection\n",
    "x = fs_data.iloc[:,[0,1,2,3,4,5,6,7,9]]  # independent variables\n",
    "y = fs_data.iloc[:,[8]]    # target column / what we're trying to predict\n",
    "\n",
    "\n",
    "#https://scikit-learn.org/stable/modules/generated/sklearn.model_selection.train_test_split.html\n",
    "#Found this easy way to split training data in the scikit documentation\n",
    "#Shuffles data, and allocated 80% of it to be used for training, and 20% of it to be used for testing\n",
    "x_train, x_test, y_train, y_test = train_test_split(x, y, test_size = 0.2) # splitting up dataset to training and testing\n",
    "\n",
    "scl = RobustScaler() # Preprocess numerical data \n",
    "x_train = scl.fit_transform(x_train) \n",
    "x_test = scl.transform(x_test)"
   ]
  },
  {
   "cell_type": "code",
   "execution_count": 62,
   "metadata": {},
   "outputs": [
    {
     "data": {
      "text/plain": [
       "(16346, 1)"
      ]
     },
     "execution_count": 62,
     "metadata": {},
     "output_type": "execute_result"
    }
   ],
   "source": [
    "y_train.shape"
   ]
  },
  {
   "cell_type": "code",
   "execution_count": 76,
   "metadata": {},
   "outputs": [
    {
     "name": "stdout",
     "output_type": "stream",
     "text": [
      "--Make model--\n",
      "--Fit model--\n",
      "Epoch 1/10\n",
      "511/511 - 1s - loss: 20.6706 - accuracy: 0.0000e+00 - 512ms/epoch - 1ms/step\n",
      "Epoch 2/10\n",
      "511/511 - 0s - loss: 16.7697 - accuracy: 0.0000e+00 - 314ms/epoch - 614us/step\n",
      "Epoch 3/10\n",
      "511/511 - 0s - loss: 16.1427 - accuracy: 0.0000e+00 - 317ms/epoch - 621us/step\n",
      "Epoch 4/10\n",
      "511/511 - 0s - loss: 15.8443 - accuracy: 0.0000e+00 - 312ms/epoch - 611us/step\n",
      "Epoch 5/10\n",
      "511/511 - 0s - loss: 15.6727 - accuracy: 0.0000e+00 - 323ms/epoch - 632us/step\n",
      "Epoch 6/10\n",
      "511/511 - 0s - loss: 15.5637 - accuracy: 0.0000e+00 - 314ms/epoch - 615us/step\n",
      "Epoch 7/10\n",
      "511/511 - 0s - loss: 15.4901 - accuracy: 0.0000e+00 - 309ms/epoch - 604us/step\n",
      "Epoch 8/10\n",
      "511/511 - 0s - loss: 15.4382 - accuracy: 0.0000e+00 - 321ms/epoch - 628us/step\n",
      "Epoch 9/10\n",
      "511/511 - 0s - loss: 15.4005 - accuracy: 0.0000e+00 - 302ms/epoch - 591us/step\n",
      "Epoch 10/10\n",
      "511/511 - 0s - loss: 15.3724 - accuracy: 0.0000e+00 - 280ms/epoch - 549us/step\n"
     ]
    },
    {
     "data": {
      "text/plain": [
       "<keras.callbacks.History at 0x7fe4a833d5d0>"
      ]
     },
     "execution_count": 76,
     "metadata": {},
     "output_type": "execute_result"
    }
   ],
   "source": [
    "from tensorflow.keras.models import Sequential\n",
    "from tensorflow.keras.layers import Dense,Flatten\n",
    "\n",
    "#Making a Model\n",
    "print(\"--Make model--\")\n",
    "model = tf.keras.models.Sequential([\n",
    "  tf.keras.layers.InputLayer(input_shape=(9)),\n",
    "  tf.keras.layers.Dense(9, activation='relu'),\n",
    "  tf.keras.layers.Dense(10, activation='linear')\n",
    "])\n",
    "# model = Sequential()\n",
    "# model.add(Flatten(input_shape=(1,9)))\n",
    "# model.add(Dense(10, activation='relu'))\n",
    "# model.add(Dense(1, activation='linear'))\n",
    "# model.summary()\n",
    "model.compile(optimizer='sgd', loss='msle', metrics=['accuracy'])\n",
    "\n",
    "print(\"--Fit model--\")\n",
    "model.fit(x_train, y_train, epochs=10, verbose=2)"
   ]
  }
 ],
 "metadata": {
  "kernelspec": {
   "display_name": "Python 3.10.6 ('venv')",
   "language": "python",
   "name": "python3"
  },
  "language_info": {
   "codemirror_mode": {
    "name": "ipython",
    "version": 3
   },
   "file_extension": ".py",
   "mimetype": "text/x-python",
   "name": "python",
   "nbconvert_exporter": "python",
   "pygments_lexer": "ipython3",
   "version": "3.10.6"
  },
  "orig_nbformat": 4,
  "vscode": {
   "interpreter": {
    "hash": "d6d70f9a4759b97e421ee54bae746ca0ce0680c376ae7c2657ef0439157da5f1"
   }
  }
 },
 "nbformat": 4,
 "nbformat_minor": 2
}

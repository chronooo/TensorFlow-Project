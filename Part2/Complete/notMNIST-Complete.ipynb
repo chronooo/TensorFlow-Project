{
 "cells": [
  {
   "cell_type": "markdown",
   "id": "86336486-6935-4bf6-9c5b-b2c964a61e87",
   "metadata": {},
   "source": [
    "#Original Author: Jonathan Hudson\n",
    "#CPSC 501 F22"
   ]
  },
  {
   "cell_type": "code",
   "execution_count": 1,
   "id": "7b9bfed6-8429-453f-8f39-dce64688aaaa",
   "metadata": {},
   "outputs": [
    {
     "name": "stderr",
     "output_type": "stream",
     "text": [
      "2022-11-11 13:37:35.111165: I tensorflow/core/platform/cpu_feature_guard.cc:193] This TensorFlow binary is optimized with oneAPI Deep Neural Network Library (oneDNN) to use the following CPU instructions in performance-critical operations:  AVX2 FMA\n",
      "To enable them in other operations, rebuild TensorFlow with the appropriate compiler flags.\n",
      "2022-11-11 13:37:35.251090: W tensorflow/stream_executor/platform/default/dso_loader.cc:64] Could not load dynamic library 'libcudart.so.11.0'; dlerror: libcudart.so.11.0: cannot open shared object file: No such file or directory\n",
      "2022-11-11 13:37:35.251104: I tensorflow/stream_executor/cuda/cudart_stub.cc:29] Ignore above cudart dlerror if you do not have a GPU set up on your machine.\n",
      "2022-11-11 13:37:35.272964: E tensorflow/stream_executor/cuda/cuda_blas.cc:2981] Unable to register cuBLAS factory: Attempting to register factory for plugin cuBLAS when one has already been registered\n",
      "2022-11-11 13:37:36.862493: W tensorflow/stream_executor/platform/default/dso_loader.cc:64] Could not load dynamic library 'libnvinfer.so.7'; dlerror: libnvinfer.so.7: cannot open shared object file: No such file or directory\n",
      "2022-11-11 13:37:36.862939: W tensorflow/stream_executor/platform/default/dso_loader.cc:64] Could not load dynamic library 'libnvinfer_plugin.so.7'; dlerror: libnvinfer_plugin.so.7: cannot open shared object file: No such file or directory\n",
      "2022-11-11 13:37:36.862946: W tensorflow/compiler/tf2tensorrt/utils/py_utils.cc:38] TF-TRT Warning: Cannot dlopen some TensorRT libraries. If you would like to use Nvidia GPU with TensorRT, please make sure the missing libraries mentioned above are installed properly.\n"
     ]
    },
    {
     "name": "stdout",
     "output_type": "stream",
     "text": [
      "--Get data--\n",
      "--Process data--\n"
     ]
    }
   ],
   "source": [
    "import tensorflow as tf\n",
    "import numpy as np\n",
    "\n",
    "tf.random.set_seed(1234)\n",
    "\n",
    "print(\"--Get data--\")\n",
    "with np.load(\"../notMNIST.npz\", allow_pickle=True) as f:\n",
    "    x_train, y_train = f['x_train'], f['y_train']\n",
    "    x_test, y_test = f['x_test'], f['y_test']\n",
    "\n",
    "print(\"--Process data--\")\n",
    "x_train, x_test = x_train / 255.0, x_test / 255.0\n",
    "\n",
    "x_train = np.expand_dims(x_train, -1)\n",
    "x_test = np.expand_dims(x_test, -1)\n",
    "input_shape = (28, 28, 1)"
   ]
  },
  {
   "cell_type": "code",
   "execution_count": 11,
   "id": "e66f3a9a-202c-4734-82fc-e2fb378979ae",
   "metadata": {},
   "outputs": [
    {
     "name": "stdout",
     "output_type": "stream",
     "text": [
      "--Make model--\n",
      "--Fit model--\n",
      "Epoch 1/30\n",
      "1875/1875 - 2s - loss: 0.5862 - accuracy: 0.8247 - 2s/epoch - 1ms/step\n",
      "Epoch 2/30\n",
      "1875/1875 - 2s - loss: 0.4617 - accuracy: 0.8582 - 2s/epoch - 1ms/step\n",
      "Epoch 3/30\n",
      "1875/1875 - 2s - loss: 0.4109 - accuracy: 0.8727 - 2s/epoch - 1ms/step\n",
      "Epoch 4/30\n",
      "1875/1875 - 2s - loss: 0.3767 - accuracy: 0.8831 - 2s/epoch - 1ms/step\n",
      "Epoch 5/30\n",
      "1875/1875 - 2s - loss: 0.3507 - accuracy: 0.8896 - 2s/epoch - 1ms/step\n",
      "Epoch 6/30\n",
      "1875/1875 - 2s - loss: 0.3270 - accuracy: 0.8956 - 2s/epoch - 1ms/step\n",
      "Epoch 7/30\n",
      "1875/1875 - 2s - loss: 0.3063 - accuracy: 0.9015 - 2s/epoch - 1ms/step\n",
      "Epoch 8/30\n",
      "1875/1875 - 2s - loss: 0.2872 - accuracy: 0.9077 - 2s/epoch - 1ms/step\n",
      "Epoch 9/30\n",
      "1875/1875 - 2s - loss: 0.2728 - accuracy: 0.9123 - 2s/epoch - 1ms/step\n",
      "Epoch 10/30\n",
      "1875/1875 - 2s - loss: 0.2546 - accuracy: 0.9165 - 2s/epoch - 1ms/step\n",
      "Epoch 11/30\n",
      "1875/1875 - 2s - loss: 0.2416 - accuracy: 0.9204 - 2s/epoch - 1ms/step\n",
      "Epoch 12/30\n",
      "1875/1875 - 2s - loss: 0.2270 - accuracy: 0.9254 - 2s/epoch - 1ms/step\n",
      "Epoch 13/30\n",
      "1875/1875 - 2s - loss: 0.2188 - accuracy: 0.9282 - 2s/epoch - 1ms/step\n",
      "Epoch 14/30\n",
      "1875/1875 - 2s - loss: 0.2085 - accuracy: 0.9315 - 2s/epoch - 1ms/step\n",
      "Epoch 15/30\n",
      "1875/1875 - 2s - loss: 0.2028 - accuracy: 0.9330 - 2s/epoch - 1ms/step\n",
      "Epoch 16/30\n",
      "1875/1875 - 2s - loss: 0.1926 - accuracy: 0.9363 - 2s/epoch - 1ms/step\n",
      "Epoch 17/30\n",
      "1875/1875 - 2s - loss: 0.1866 - accuracy: 0.9390 - 2s/epoch - 1ms/step\n",
      "Epoch 18/30\n",
      "1875/1875 - 2s - loss: 0.1765 - accuracy: 0.9421 - 2s/epoch - 1ms/step\n",
      "Epoch 19/30\n",
      "1875/1875 - 2s - loss: 0.1713 - accuracy: 0.9439 - 2s/epoch - 1ms/step\n",
      "Epoch 20/30\n",
      "1875/1875 - 2s - loss: 0.1648 - accuracy: 0.9464 - 2s/epoch - 1ms/step\n",
      "Epoch 21/30\n",
      "1875/1875 - 2s - loss: 0.1555 - accuracy: 0.9487 - 2s/epoch - 1ms/step\n",
      "Epoch 22/30\n",
      "1875/1875 - 2s - loss: 0.1465 - accuracy: 0.9516 - 2s/epoch - 1ms/step\n",
      "Epoch 23/30\n",
      "1875/1875 - 2s - loss: 0.1471 - accuracy: 0.9520 - 2s/epoch - 1ms/step\n",
      "Epoch 24/30\n",
      "1875/1875 - 2s - loss: 0.1435 - accuracy: 0.9533 - 2s/epoch - 1ms/step\n",
      "Epoch 25/30\n",
      "1875/1875 - 2s - loss: 0.1372 - accuracy: 0.9557 - 2s/epoch - 1ms/step\n",
      "Epoch 26/30\n",
      "1875/1875 - 2s - loss: 0.1364 - accuracy: 0.9564 - 2s/epoch - 1ms/step\n",
      "Epoch 27/30\n",
      "1875/1875 - 2s - loss: 0.1372 - accuracy: 0.9562 - 2s/epoch - 1ms/step\n",
      "Epoch 28/30\n",
      "1875/1875 - 2s - loss: 0.1247 - accuracy: 0.9593 - 2s/epoch - 1ms/step\n",
      "Epoch 29/30\n",
      "1875/1875 - 2s - loss: 0.1278 - accuracy: 0.9594 - 2s/epoch - 1ms/step\n",
      "Epoch 30/30\n",
      "1875/1875 - 2s - loss: 0.1218 - accuracy: 0.9606 - 2s/epoch - 1ms/step\n"
     ]
    },
    {
     "data": {
      "text/plain": [
       "<keras.callbacks.History at 0x7fb01970e380>"
      ]
     },
     "execution_count": 11,
     "metadata": {},
     "output_type": "execute_result"
    }
   ],
   "source": [
    "print(\"--Make model--\")\n",
    "model = tf.keras.models.Sequential([\n",
    "  tf.keras.layers.Flatten(input_shape=(28, 28, 1)),\n",
    "  tf.keras.layers.Dense(128, activation='relu'),\n",
    "  tf.keras.layers.Dense(128, activation='relu'),\n",
    "  tf.keras.layers.Dense(128, activation='relu'),\n",
    "  tf.keras.layers.Dense(128, activation='relu'),\n",
    "  tf.keras.layers.Dense(10, activation='softmax'),\n",
    "])\n",
    "model.compile(optimizer='adam', loss='sparse_categorical_crossentropy', metrics=['accuracy'])\n",
    "\n",
    "print(\"--Fit model--\")\n",
    "model.fit(x_train, y_train, epochs=30, verbose=2)"
   ]
  },
  {
   "cell_type": "code",
   "execution_count": 14,
   "id": "d1e873e6-956a-4471-a9b2-61e9421aab01",
   "metadata": {},
   "outputs": [
    {
     "name": "stdout",
     "output_type": "stream",
     "text": [
      "--Evaluate model--\n",
      "1875/1875 - 1s - loss: 0.1060 - accuracy: 0.9669 - 1s/epoch - 724us/step\n",
      "313/313 - 0s - loss: 0.3882 - accuracy: 0.9384 - 244ms/epoch - 778us/step\n",
      "Train / Test Accuracy: 96.7% / 93.8%\n"
     ]
    }
   ],
   "source": [
    "print(\"--Evaluate model--\")\n",
    "model_loss1, model_acc1 = model.evaluate(x_train,  y_train, verbose=2)\n",
    "model_loss2, model_acc2 = model.evaluate(x_test,  y_test, verbose=2)\n",
    "print(f\"Train / Test Accuracy: {model_acc1*100:.1f}% / {model_acc2*100:.1f}%\")\n",
    "model.save(\"notMNIST_complete_model\", save_format=\"h5\")"
   ]
  }
 ],
 "metadata": {
  "kernelspec": {
   "display_name": "Python 3.10.6 ('venv')",
   "language": "python",
   "name": "python3"
  },
  "language_info": {
   "codemirror_mode": {
    "name": "ipython",
    "version": 3
   },
   "file_extension": ".py",
   "mimetype": "text/x-python",
   "name": "python",
   "nbconvert_exporter": "python",
   "pygments_lexer": "ipython3",
   "version": "3.10.6"
  },
  "vscode": {
   "interpreter": {
    "hash": "d6d70f9a4759b97e421ee54bae746ca0ce0680c376ae7c2657ef0439157da5f1"
   }
  }
 },
 "nbformat": 4,
 "nbformat_minor": 5
}

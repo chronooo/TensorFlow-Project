{
 "cells": [
  {
   "cell_type": "markdown",
   "id": "86336486-6935-4bf6-9c5b-b2c964a61e87",
   "metadata": {},
   "source": [
    "#Original Author: Jonathan Hudson\n",
    "#CPSC 501 F22"
   ]
  },
  {
   "cell_type": "code",
   "execution_count": 1,
   "id": "7b9bfed6-8429-453f-8f39-dce64688aaaa",
   "metadata": {},
   "outputs": [
    {
     "name": "stderr",
     "output_type": "stream",
     "text": [
      "2022-11-11 13:37:35.111165: I tensorflow/core/platform/cpu_feature_guard.cc:193] This TensorFlow binary is optimized with oneAPI Deep Neural Network Library (oneDNN) to use the following CPU instructions in performance-critical operations:  AVX2 FMA\n",
      "To enable them in other operations, rebuild TensorFlow with the appropriate compiler flags.\n",
      "2022-11-11 13:37:35.251090: W tensorflow/stream_executor/platform/default/dso_loader.cc:64] Could not load dynamic library 'libcudart.so.11.0'; dlerror: libcudart.so.11.0: cannot open shared object file: No such file or directory\n",
      "2022-11-11 13:37:35.251104: I tensorflow/stream_executor/cuda/cudart_stub.cc:29] Ignore above cudart dlerror if you do not have a GPU set up on your machine.\n",
      "2022-11-11 13:37:35.272964: E tensorflow/stream_executor/cuda/cuda_blas.cc:2981] Unable to register cuBLAS factory: Attempting to register factory for plugin cuBLAS when one has already been registered\n",
      "2022-11-11 13:37:36.862493: W tensorflow/stream_executor/platform/default/dso_loader.cc:64] Could not load dynamic library 'libnvinfer.so.7'; dlerror: libnvinfer.so.7: cannot open shared object file: No such file or directory\n",
      "2022-11-11 13:37:36.862939: W tensorflow/stream_executor/platform/default/dso_loader.cc:64] Could not load dynamic library 'libnvinfer_plugin.so.7'; dlerror: libnvinfer_plugin.so.7: cannot open shared object file: No such file or directory\n",
      "2022-11-11 13:37:36.862946: W tensorflow/compiler/tf2tensorrt/utils/py_utils.cc:38] TF-TRT Warning: Cannot dlopen some TensorRT libraries. If you would like to use Nvidia GPU with TensorRT, please make sure the missing libraries mentioned above are installed properly.\n"
     ]
    },
    {
     "name": "stdout",
     "output_type": "stream",
     "text": [
      "--Get data--\n",
      "--Process data--\n"
     ]
    }
   ],
   "source": [
    "import tensorflow as tf\n",
    "import numpy as np\n",
    "\n",
    "tf.random.set_seed(1234)\n",
    "\n",
    "print(\"--Get data--\")\n",
    "with np.load(\"../notMNIST.npz\", allow_pickle=True) as f:\n",
    "    x_train, y_train = f['x_train'], f['y_train']\n",
    "    x_test, y_test = f['x_test'], f['y_test']\n",
    "\n",
    "print(\"--Process data--\")\n",
    "x_train, x_test = x_train / 255.0, x_test / 255.0\n",
    "\n",
    "x_train = np.expand_dims(x_train, -1)\n",
    "x_test = np.expand_dims(x_test, -1)\n",
    "input_shape = (28, 28, 1)"
   ]
  },
  {
   "cell_type": "code",
   "execution_count": 2,
   "id": "e66f3a9a-202c-4734-82fc-e2fb378979ae",
   "metadata": {},
   "outputs": [
    {
     "name": "stdout",
     "output_type": "stream",
     "text": [
      "--Make model--\n",
      "--Fit model--\n",
      "Epoch 1/30\n"
     ]
    },
    {
     "name": "stderr",
     "output_type": "stream",
     "text": [
      "2022-11-11 13:37:39.956370: I tensorflow/stream_executor/cuda/cuda_gpu_executor.cc:980] successful NUMA node read from SysFS had negative value (-1), but there must be at least one NUMA node, so returning NUMA node zero\n",
      "2022-11-11 13:37:39.957302: W tensorflow/stream_executor/platform/default/dso_loader.cc:64] Could not load dynamic library 'libcudart.so.11.0'; dlerror: libcudart.so.11.0: cannot open shared object file: No such file or directory\n",
      "2022-11-11 13:37:39.957993: W tensorflow/stream_executor/platform/default/dso_loader.cc:64] Could not load dynamic library 'libcublas.so.11'; dlerror: libcublas.so.11: cannot open shared object file: No such file or directory\n",
      "2022-11-11 13:37:39.958694: W tensorflow/stream_executor/platform/default/dso_loader.cc:64] Could not load dynamic library 'libcublasLt.so.11'; dlerror: libcublasLt.so.11: cannot open shared object file: No such file or directory\n",
      "2022-11-11 13:37:39.959197: W tensorflow/stream_executor/platform/default/dso_loader.cc:64] Could not load dynamic library 'libcufft.so.10'; dlerror: libcufft.so.10: cannot open shared object file: No such file or directory\n",
      "2022-11-11 13:37:39.959744: W tensorflow/stream_executor/platform/default/dso_loader.cc:64] Could not load dynamic library 'libcurand.so.10'; dlerror: libcurand.so.10: cannot open shared object file: No such file or directory\n",
      "2022-11-11 13:37:39.960350: W tensorflow/stream_executor/platform/default/dso_loader.cc:64] Could not load dynamic library 'libcusolver.so.11'; dlerror: libcusolver.so.11: cannot open shared object file: No such file or directory\n",
      "2022-11-11 13:37:39.960898: W tensorflow/stream_executor/platform/default/dso_loader.cc:64] Could not load dynamic library 'libcusparse.so.11'; dlerror: libcusparse.so.11: cannot open shared object file: No such file or directory\n",
      "2022-11-11 13:37:39.961524: W tensorflow/stream_executor/platform/default/dso_loader.cc:64] Could not load dynamic library 'libcudnn.so.8'; dlerror: libcudnn.so.8: cannot open shared object file: No such file or directory\n",
      "2022-11-11 13:37:39.961534: W tensorflow/core/common_runtime/gpu/gpu_device.cc:1934] Cannot dlopen some GPU libraries. Please make sure the missing libraries mentioned above are installed properly if you would like to use GPU. Follow the guide at https://www.tensorflow.org/install/gpu for how to download and setup the required libraries for your platform.\n",
      "Skipping registering GPU devices...\n",
      "2022-11-11 13:37:39.962015: I tensorflow/core/platform/cpu_feature_guard.cc:193] This TensorFlow binary is optimized with oneAPI Deep Neural Network Library (oneDNN) to use the following CPU instructions in performance-critical operations:  AVX2 FMA\n",
      "To enable them in other operations, rebuild TensorFlow with the appropriate compiler flags.\n"
     ]
    },
    {
     "name": "stdout",
     "output_type": "stream",
     "text": [
      "1875/1875 - 2s - loss: 0.7926 - accuracy: 0.7829 - 2s/epoch - 908us/step\n",
      "Epoch 2/30\n",
      "1875/1875 - 1s - loss: 0.5971 - accuracy: 0.8299 - 1s/epoch - 796us/step\n",
      "Epoch 3/30\n",
      "1875/1875 - 1s - loss: 0.5510 - accuracy: 0.8389 - 1s/epoch - 799us/step\n",
      "Epoch 4/30\n",
      "1875/1875 - 1s - loss: 0.5230 - accuracy: 0.8459 - 1s/epoch - 761us/step\n",
      "Epoch 5/30\n",
      "1875/1875 - 1s - loss: 0.5033 - accuracy: 0.8512 - 1s/epoch - 761us/step\n",
      "Epoch 6/30\n",
      "1875/1875 - 1s - loss: 0.4868 - accuracy: 0.8565 - 1s/epoch - 795us/step\n",
      "Epoch 7/30\n",
      "1875/1875 - 1s - loss: 0.4728 - accuracy: 0.8603 - 1s/epoch - 771us/step\n",
      "Epoch 8/30\n",
      "1875/1875 - 1s - loss: 0.4607 - accuracy: 0.8630 - 1s/epoch - 773us/step\n",
      "Epoch 9/30\n",
      "1875/1875 - 1s - loss: 0.4505 - accuracy: 0.8661 - 1s/epoch - 766us/step\n",
      "Epoch 10/30\n",
      "1875/1875 - 2s - loss: 0.4407 - accuracy: 0.8688 - 2s/epoch - 820us/step\n",
      "Epoch 11/30\n",
      "1875/1875 - 1s - loss: 0.4311 - accuracy: 0.8714 - 1s/epoch - 768us/step\n",
      "Epoch 12/30\n",
      "1875/1875 - 2s - loss: 0.4231 - accuracy: 0.8740 - 2s/epoch - 803us/step\n",
      "Epoch 13/30\n",
      "1875/1875 - 1s - loss: 0.4149 - accuracy: 0.8763 - 1s/epoch - 771us/step\n",
      "Epoch 14/30\n",
      "1875/1875 - 1s - loss: 0.4072 - accuracy: 0.8782 - 1s/epoch - 779us/step\n",
      "Epoch 15/30\n",
      "1875/1875 - 1s - loss: 0.4007 - accuracy: 0.8795 - 1s/epoch - 772us/step\n",
      "Epoch 16/30\n",
      "1875/1875 - 1s - loss: 0.3931 - accuracy: 0.8828 - 1s/epoch - 789us/step\n",
      "Epoch 17/30\n",
      "1875/1875 - 1s - loss: 0.3873 - accuracy: 0.8841 - 1s/epoch - 784us/step\n",
      "Epoch 18/30\n",
      "1875/1875 - 1s - loss: 0.3808 - accuracy: 0.8859 - 1s/epoch - 782us/step\n",
      "Epoch 19/30\n",
      "1875/1875 - 1s - loss: 0.3743 - accuracy: 0.8874 - 1s/epoch - 759us/step\n",
      "Epoch 20/30\n",
      "1875/1875 - 1s - loss: 0.3692 - accuracy: 0.8898 - 1s/epoch - 771us/step\n",
      "Epoch 21/30\n",
      "1875/1875 - 1s - loss: 0.3628 - accuracy: 0.8906 - 1s/epoch - 766us/step\n",
      "Epoch 22/30\n",
      "1875/1875 - 2s - loss: 0.3579 - accuracy: 0.8933 - 2s/epoch - 800us/step\n",
      "Epoch 23/30\n",
      "1875/1875 - 1s - loss: 0.3524 - accuracy: 0.8940 - 1s/epoch - 762us/step\n",
      "Epoch 24/30\n",
      "1875/1875 - 1s - loss: 0.3473 - accuracy: 0.8954 - 1s/epoch - 779us/step\n",
      "Epoch 25/30\n",
      "1875/1875 - 1s - loss: 0.3416 - accuracy: 0.8967 - 1s/epoch - 774us/step\n",
      "Epoch 26/30\n",
      "1875/1875 - 1s - loss: 0.3366 - accuracy: 0.8985 - 1s/epoch - 776us/step\n",
      "Epoch 27/30\n",
      "1875/1875 - 1s - loss: 0.3330 - accuracy: 0.8996 - 1s/epoch - 788us/step\n",
      "Epoch 28/30\n",
      "1875/1875 - 1s - loss: 0.3277 - accuracy: 0.9018 - 1s/epoch - 773us/step\n",
      "Epoch 29/30\n",
      "1875/1875 - 1s - loss: 0.3232 - accuracy: 0.9023 - 1s/epoch - 764us/step\n",
      "Epoch 30/30\n",
      "1875/1875 - 1s - loss: 0.3192 - accuracy: 0.9040 - 1s/epoch - 771us/step\n"
     ]
    },
    {
     "data": {
      "text/plain": [
       "<keras.callbacks.History at 0x7fb0e4177ca0>"
      ]
     },
     "execution_count": 2,
     "metadata": {},
     "output_type": "execute_result"
    }
   ],
   "source": [
    "print(\"--Make model--\")\n",
    "model = tf.keras.models.Sequential([\n",
    "  tf.keras.layers.Flatten(input_shape=(28, 28,1)),\n",
    "  tf.keras.layers.Dense(64, activation='relu'),\n",
    "  tf.keras.layers.Dense(64, activation='relu'),\n",
    "  tf.keras.layers.Dense(10, activation='softmax'),\n",
    "])\n",
    "model.compile(optimizer='sgd', loss='sparse_categorical_crossentropy', metrics=['accuracy'])\n",
    "\n",
    "print(\"--Fit model--\")\n",
    "model.fit(x_train, y_train, epochs=30, verbose=2)"
   ]
  },
  {
   "cell_type": "code",
   "execution_count": 3,
   "id": "d1e873e6-956a-4471-a9b2-61e9421aab01",
   "metadata": {},
   "outputs": [
    {
     "name": "stdout",
     "output_type": "stream",
     "text": [
      "--Evaluate model--\n",
      "1875/1875 - 1s - loss: 0.3037 - accuracy: 0.9090 - 1s/epoch - 723us/step\n",
      "313/313 - 0s - loss: 0.2429 - accuracy: 0.9297 - 283ms/epoch - 903us/step\n",
      "Train / Test Accuracy: 90.9% / 93.0%\n"
     ]
    }
   ],
   "source": [
    "print(\"--Evaluate model--\")\n",
    "model_loss1, model_acc1 = model.evaluate(x_train,  y_train, verbose=2)\n",
    "model_loss2, model_acc2 = model.evaluate(x_test,  y_test, verbose=2)\n",
    "print(f\"Train / Test Accuracy: {model_acc1*100:.1f}% / {model_acc2*100:.1f}%\")\n",
    "model.save(\"notMNIST_complete_model\", save_format=\"h5\")"
   ]
  }
 ],
 "metadata": {
  "kernelspec": {
   "display_name": "Python 3.10.6 ('venv')",
   "language": "python",
   "name": "python3"
  },
  "language_info": {
   "codemirror_mode": {
    "name": "ipython",
    "version": 3
   },
   "file_extension": ".py",
   "mimetype": "text/x-python",
   "name": "python",
   "nbconvert_exporter": "python",
   "pygments_lexer": "ipython3",
   "version": "3.10.6"
  },
  "vscode": {
   "interpreter": {
    "hash": "d6d70f9a4759b97e421ee54bae746ca0ce0680c376ae7c2657ef0439157da5f1"
   }
  }
 },
 "nbformat": 4,
 "nbformat_minor": 5
}

{
 "cells": [
  {
   "cell_type": "markdown",
   "id": "86336486-6935-4bf6-9c5b-b2c964a61e87",
   "metadata": {},
   "source": [
    "#Original Author: Jonathan Hudson\n",
    "#CPSC 501 F22"
   ]
  },
  {
   "cell_type": "code",
   "execution_count": 1,
   "id": "7b9bfed6-8429-453f-8f39-dce64688aaaa",
   "metadata": {},
   "outputs": [
    {
     "name": "stderr",
     "output_type": "stream",
     "text": [
      "2022-11-11 13:37:35.111165: I tensorflow/core/platform/cpu_feature_guard.cc:193] This TensorFlow binary is optimized with oneAPI Deep Neural Network Library (oneDNN) to use the following CPU instructions in performance-critical operations:  AVX2 FMA\n",
      "To enable them in other operations, rebuild TensorFlow with the appropriate compiler flags.\n",
      "2022-11-11 13:37:35.251090: W tensorflow/stream_executor/platform/default/dso_loader.cc:64] Could not load dynamic library 'libcudart.so.11.0'; dlerror: libcudart.so.11.0: cannot open shared object file: No such file or directory\n",
      "2022-11-11 13:37:35.251104: I tensorflow/stream_executor/cuda/cudart_stub.cc:29] Ignore above cudart dlerror if you do not have a GPU set up on your machine.\n",
      "2022-11-11 13:37:35.272964: E tensorflow/stream_executor/cuda/cuda_blas.cc:2981] Unable to register cuBLAS factory: Attempting to register factory for plugin cuBLAS when one has already been registered\n",
      "2022-11-11 13:37:36.862493: W tensorflow/stream_executor/platform/default/dso_loader.cc:64] Could not load dynamic library 'libnvinfer.so.7'; dlerror: libnvinfer.so.7: cannot open shared object file: No such file or directory\n",
      "2022-11-11 13:37:36.862939: W tensorflow/stream_executor/platform/default/dso_loader.cc:64] Could not load dynamic library 'libnvinfer_plugin.so.7'; dlerror: libnvinfer_plugin.so.7: cannot open shared object file: No such file or directory\n",
      "2022-11-11 13:37:36.862946: W tensorflow/compiler/tf2tensorrt/utils/py_utils.cc:38] TF-TRT Warning: Cannot dlopen some TensorRT libraries. If you would like to use Nvidia GPU with TensorRT, please make sure the missing libraries mentioned above are installed properly.\n"
     ]
    },
    {
     "name": "stdout",
     "output_type": "stream",
     "text": [
      "--Get data--\n",
      "--Process data--\n"
     ]
    }
   ],
   "source": [
    "import tensorflow as tf\n",
    "import numpy as np\n",
    "\n",
    "tf.random.set_seed(1234)\n",
    "\n",
    "print(\"--Get data--\")\n",
    "with np.load(\"../notMNIST.npz\", allow_pickle=True) as f:\n",
    "    x_train, y_train = f['x_train'], f['y_train']\n",
    "    x_test, y_test = f['x_test'], f['y_test']\n",
    "\n",
    "print(\"--Process data--\")\n",
    "x_train, x_test = x_train / 255.0, x_test / 255.0\n",
    "\n",
    "x_train = np.expand_dims(x_train, -1)\n",
    "x_test = np.expand_dims(x_test, -1)\n",
    "input_shape = (28, 28, 1)"
   ]
  },
  {
   "cell_type": "code",
   "execution_count": 51,
   "id": "e66f3a9a-202c-4734-82fc-e2fb378979ae",
   "metadata": {},
   "outputs": [
    {
     "name": "stdout",
     "output_type": "stream",
     "text": [
      "--Make model--\n",
      "--Fit model--\n",
      "Epoch 1/15\n",
      "1875/1875 - 34s - loss: 0.4886 - accuracy: 0.8523 - 34s/epoch - 18ms/step\n",
      "Epoch 2/15\n",
      "1875/1875 - 34s - loss: 0.3295 - accuracy: 0.8985 - 34s/epoch - 18ms/step\n",
      "Epoch 3/15\n",
      "1875/1875 - 33s - loss: 0.2557 - accuracy: 0.9212 - 33s/epoch - 18ms/step\n",
      "Epoch 4/15\n",
      "1875/1875 - 33s - loss: 0.1946 - accuracy: 0.9384 - 33s/epoch - 17ms/step\n",
      "Epoch 5/15\n",
      "1875/1875 - 33s - loss: 0.1551 - accuracy: 0.9512 - 33s/epoch - 17ms/step\n",
      "Epoch 6/15\n",
      "1875/1875 - 33s - loss: 0.1184 - accuracy: 0.9639 - 33s/epoch - 18ms/step\n",
      "Epoch 7/15\n",
      "1875/1875 - 33s - loss: 0.0945 - accuracy: 0.9708 - 33s/epoch - 17ms/step\n",
      "Epoch 8/15\n",
      "1875/1875 - 33s - loss: 0.0769 - accuracy: 0.9767 - 33s/epoch - 18ms/step\n",
      "Epoch 9/15\n",
      "1875/1875 - 33s - loss: 0.0607 - accuracy: 0.9820 - 33s/epoch - 17ms/step\n",
      "Epoch 10/15\n",
      "1875/1875 - 33s - loss: 0.0531 - accuracy: 0.9845 - 33s/epoch - 17ms/step\n",
      "Epoch 11/15\n",
      "1875/1875 - 33s - loss: 0.0494 - accuracy: 0.9861 - 33s/epoch - 18ms/step\n",
      "Epoch 12/15\n",
      "1875/1875 - 33s - loss: 0.0406 - accuracy: 0.9889 - 33s/epoch - 17ms/step\n",
      "Epoch 13/15\n",
      "1875/1875 - 33s - loss: 0.0385 - accuracy: 0.9894 - 33s/epoch - 17ms/step\n",
      "Epoch 14/15\n",
      "1875/1875 - 33s - loss: 0.0326 - accuracy: 0.9903 - 33s/epoch - 18ms/step\n",
      "Epoch 15/15\n",
      "1875/1875 - 33s - loss: 0.0342 - accuracy: 0.9910 - 33s/epoch - 18ms/step\n"
     ]
    },
    {
     "data": {
      "text/plain": [
       "<keras.callbacks.History at 0x7fafe4532ec0>"
      ]
     },
     "execution_count": 51,
     "metadata": {},
     "output_type": "execute_result"
    }
   ],
   "source": [
    "inputLayer = tf.keras.layers.Input(shape=(28, 28, 1))\n",
    "convLayer = tf.keras.layers.Conv2D(32, (3,3), padding = \"valid\", activation = \"relu\",input_shape=(28,28,1))(inputLayer)\n",
    "\n",
    "print(\"--Make model--\")\n",
    "model = tf.keras.models.Sequential([\n",
    "  tf.keras.layers.Input(shape=(28, 28, 1)),\n",
    "  tf.keras.layers.Conv2D(64, 3, padding=\"valid\", activation=\"relu\"),\n",
    "  tf.keras.layers.Flatten(),\n",
    "  tf.keras.layers.Dense(128, activation='relu'),\n",
    "  tf.keras.layers.Dense(128, activation='relu'),\n",
    "  tf.keras.layers.Dense(128, activation='relu'),\n",
    "  tf.keras.layers.Dense(128, activation='relu'),\n",
    "  tf.keras.layers.Dense(10, activation='softmax'),\n",
    "])\n",
    "model.compile(optimizer='adam', loss='sparse_categorical_crossentropy', metrics=['accuracy'])\n",
    "\n",
    "print(\"--Fit model--\")\n",
    "model.fit(x_train, y_train, epochs=15, verbose=2)"
   ]
  },
  {
   "cell_type": "code",
   "execution_count": 53,
   "id": "d1e873e6-956a-4471-a9b2-61e9421aab01",
   "metadata": {},
   "outputs": [
    {
     "name": "stdout",
     "output_type": "stream",
     "text": [
      "--Evaluate model--\n",
      "1875/1875 - 7s - loss: 0.0228 - accuracy: 0.9937 - 7s/epoch - 4ms/step\n",
      "313/313 - 1s - loss: 0.3834 - accuracy: 0.9402 - 1s/epoch - 4ms/step\n",
      "Train / Test Accuracy: 99.4% / 94.0%\n"
     ]
    }
   ],
   "source": [
    "print(\"--Evaluate model--\")\n",
    "model_loss1, model_acc1 = model.evaluate(x_train,  y_train, verbose=2)\n",
    "model_loss2, model_acc2 = model.evaluate(x_test,  y_test, verbose=2)\n",
    "print(f\"Train / Test Accuracy: {model_acc1*100:.1f}% / {model_acc2*100:.1f}%\")\n",
    "model.save(\"notMNIST_complete_model\", save_format=\"h5\")"
   ]
  },
  {
   "cell_type": "markdown",
   "id": "f6671481",
   "metadata": {},
   "source": [
    "Changes to predict_test.ipynb\n",
    "\n",
    "```py\n",
    "model = tf.keras.models.load_model('Partial/notMNIST_partial_model')     \n",
    "model = tf.keras.models.load_model('Complete/notMNIST_complete_model')\n",
    "```\n",
    "In main I load the model this way, I comment out whichever model I am currently not using.   \n",
    "```py\n",
    "#Replace these two lines with code to make a prediction \n",
    "prediction = model.predict(img)[0]\n",
    "#Determine what the predicted label is\n",
    "predicted_label = np.argmax(prediction)\n",
    "```\n",
    "In predict, I edited these two lines to be able to get my model to choose the right option with this program, and to print the confidence and option it chose\n",
    "\n",
    "Pictures used from predict_test.ipynb:\n",
    "\n",
    "Pictures sourced from notMNIST dataset in predict_test.ipynb:\n",
    "\n",
    "#8 Partial model guessed H with 21% confidence, is D. Complete model guesses D with 100% confidence.\n",
    "\n",
    "#47. Partial model guessed H with 47% confidence, is B. Complete model guesses B with 100% confidence.\n",
    "\n",
    "#62. Partial model guessed D with 21% confidence, is J. Complete model guesses J with 99% confidence.\n",
    "\n",
    "Before: ![J_old](J%2362.png) After: ![J_old](J%2362.png) \n",
    "\n"
   ]
  },
  {
   "cell_type": "markdown",
   "id": "fd8a9ff1",
   "metadata": {},
   "source": []
  }
 ],
 "metadata": {
  "kernelspec": {
   "display_name": "Python 3.10.6 ('venv')",
   "language": "python",
   "name": "python3"
  },
  "language_info": {
   "codemirror_mode": {
    "name": "ipython",
    "version": 3
   },
   "file_extension": ".py",
   "mimetype": "text/x-python",
   "name": "python",
   "nbconvert_exporter": "python",
   "pygments_lexer": "ipython3",
   "version": "3.10.6"
  },
  "vscode": {
   "interpreter": {
    "hash": "d6d70f9a4759b97e421ee54bae746ca0ce0680c376ae7c2657ef0439157da5f1"
   }
  }
 },
 "nbformat": 4,
 "nbformat_minor": 5
}

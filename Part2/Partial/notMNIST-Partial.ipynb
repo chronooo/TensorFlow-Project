{
 "cells": [
  {
   "cell_type": "markdown",
   "id": "86336486-6935-4bf6-9c5b-b2c964a61e87",
   "metadata": {},
   "source": [
    "#Original Author: Jonathan Hudson\n",
    "#CPSC 501 F22"
   ]
  },
  {
   "cell_type": "code",
   "execution_count": 2,
   "id": "7b9bfed6-8429-453f-8f39-dce64688aaaa",
   "metadata": {},
   "outputs": [
    {
     "name": "stdout",
     "output_type": "stream",
     "text": [
      "--Get data--\n",
      "--Process data--\n"
     ]
    }
   ],
   "source": [
    "import tensorflow as tf\n",
    "import numpy as np\n",
    "\n",
    "tf.random.set_seed(1234)\n",
    "\n",
    "print(\"--Get data--\")\n",
    "with np.load(\"../notMNIST.npz\", allow_pickle=True) as f:\n",
    "    x_train, y_train = f['x_train'], f['y_train']\n",
    "    x_test, y_test = f['x_test'], f['y_test']\n",
    "\n",
    "print(\"--Process data--\")\n",
    "x_train, x_test = x_train / 255.0, x_test / 255.0\n",
    "\n",
    "x_train = np.expand_dims(x_train, -1)\n",
    "x_test = np.expand_dims(x_test, -1)\n",
    "input_shape = (28, 28, 1)"
   ]
  },
  {
   "cell_type": "code",
   "execution_count": 4,
   "id": "e66f3a9a-202c-4734-82fc-e2fb378979ae",
   "metadata": {},
   "outputs": [
    {
     "name": "stdout",
     "output_type": "stream",
     "text": [
      "--Make model--\n",
      "--Fit model--\n",
      "Epoch 1/30\n",
      "1875/1875 - 2s - loss: 0.8143 - accuracy: 0.7785 - 2s/epoch - 873us/step\n",
      "Epoch 2/30\n",
      "1875/1875 - 1s - loss: 0.6049 - accuracy: 0.8291 - 1s/epoch - 763us/step\n",
      "Epoch 3/30\n",
      "1875/1875 - 1s - loss: 0.5572 - accuracy: 0.8388 - 1s/epoch - 767us/step\n",
      "Epoch 4/30\n",
      "1875/1875 - 1s - loss: 0.5285 - accuracy: 0.8465 - 1s/epoch - 784us/step\n",
      "Epoch 5/30\n",
      "1875/1875 - 2s - loss: 0.5078 - accuracy: 0.8512 - 2s/epoch - 821us/step\n",
      "Epoch 6/30\n",
      "1875/1875 - 1s - loss: 0.4905 - accuracy: 0.8561 - 1s/epoch - 750us/step\n",
      "Epoch 7/30\n",
      "1875/1875 - 1s - loss: 0.4761 - accuracy: 0.8595 - 1s/epoch - 754us/step\n",
      "Epoch 8/30\n",
      "1875/1875 - 1s - loss: 0.4630 - accuracy: 0.8628 - 1s/epoch - 782us/step\n",
      "Epoch 9/30\n",
      "1875/1875 - 1s - loss: 0.4513 - accuracy: 0.8666 - 1s/epoch - 773us/step\n",
      "Epoch 10/30\n",
      "1875/1875 - 1s - loss: 0.4409 - accuracy: 0.8690 - 1s/epoch - 789us/step\n",
      "Epoch 11/30\n",
      "1875/1875 - 1s - loss: 0.4305 - accuracy: 0.8725 - 1s/epoch - 767us/step\n",
      "Epoch 12/30\n",
      "1875/1875 - 1s - loss: 0.4219 - accuracy: 0.8751 - 1s/epoch - 748us/step\n",
      "Epoch 13/30\n",
      "1875/1875 - 1s - loss: 0.4128 - accuracy: 0.8773 - 1s/epoch - 780us/step\n",
      "Epoch 14/30\n",
      "1875/1875 - 1s - loss: 0.4041 - accuracy: 0.8799 - 1s/epoch - 774us/step\n",
      "Epoch 15/30\n",
      "1875/1875 - 1s - loss: 0.3969 - accuracy: 0.8815 - 1s/epoch - 793us/step\n",
      "Epoch 16/30\n",
      "1875/1875 - 1s - loss: 0.3890 - accuracy: 0.8838 - 1s/epoch - 789us/step\n",
      "Epoch 17/30\n",
      "1875/1875 - 1s - loss: 0.3825 - accuracy: 0.8858 - 1s/epoch - 784us/step\n",
      "Epoch 18/30\n",
      "1875/1875 - 1s - loss: 0.3755 - accuracy: 0.8878 - 1s/epoch - 785us/step\n",
      "Epoch 19/30\n",
      "1875/1875 - 1s - loss: 0.3687 - accuracy: 0.8891 - 1s/epoch - 747us/step\n",
      "Epoch 20/30\n",
      "1875/1875 - 1s - loss: 0.3633 - accuracy: 0.8913 - 1s/epoch - 769us/step\n",
      "Epoch 21/30\n",
      "1875/1875 - 1s - loss: 0.3566 - accuracy: 0.8936 - 1s/epoch - 795us/step\n",
      "Epoch 22/30\n",
      "1875/1875 - 2s - loss: 0.3518 - accuracy: 0.8956 - 2s/epoch - 1ms/step\n",
      "Epoch 23/30\n",
      "1875/1875 - 2s - loss: 0.3456 - accuracy: 0.8976 - 2s/epoch - 984us/step\n",
      "Epoch 24/30\n",
      "1875/1875 - 2s - loss: 0.3403 - accuracy: 0.8988 - 2s/epoch - 903us/step\n",
      "Epoch 25/30\n",
      "1875/1875 - 1s - loss: 0.3344 - accuracy: 0.9005 - 1s/epoch - 798us/step\n",
      "Epoch 26/30\n",
      "1875/1875 - 1s - loss: 0.3294 - accuracy: 0.9014 - 1s/epoch - 793us/step\n",
      "Epoch 27/30\n",
      "1875/1875 - 1s - loss: 0.3252 - accuracy: 0.9024 - 1s/epoch - 791us/step\n",
      "Epoch 28/30\n",
      "1875/1875 - 1s - loss: 0.3195 - accuracy: 0.9048 - 1s/epoch - 779us/step\n",
      "Epoch 29/30\n",
      "1875/1875 - 1s - loss: 0.3152 - accuracy: 0.9057 - 1s/epoch - 783us/step\n",
      "Epoch 30/30\n",
      "1875/1875 - 1s - loss: 0.3102 - accuracy: 0.9071 - 1s/epoch - 795us/step\n"
     ]
    },
    {
     "data": {
      "text/plain": [
       "<keras.callbacks.History at 0x7fd8649f5900>"
      ]
     },
     "execution_count": 4,
     "metadata": {},
     "output_type": "execute_result"
    }
   ],
   "source": [
    "print(\"--Make model--\")\n",
    "model = tf.keras.models.Sequential([\n",
    "  tf.keras.layers.Flatten(input_shape=(28, 28,1)),\n",
    "  tf.keras.layers.Dense(64, activation='relu'),\n",
    "  tf.keras.layers.Dense(64, activation='relu'),\n",
    "  tf.keras.layers.Dense(10, activation='softmax'),\n",
    "])\n",
    "model.compile(optimizer='sgd', loss='sparse_categorical_crossentropy', metrics=['accuracy'])\n",
    "\n",
    "print(\"--Fit model--\")\n",
    "model.fit(x_train, y_train, epochs=30, verbose=2)"
   ]
  },
  {
   "cell_type": "code",
   "execution_count": 9,
   "id": "d1e873e6-956a-4471-a9b2-61e9421aab01",
   "metadata": {},
   "outputs": [
    {
     "name": "stdout",
     "output_type": "stream",
     "text": [
      "--Evaluate model--\n",
      "1875/1875 - 1s - loss: 0.2983 - accuracy: 0.9110 - 1s/epoch - 639us/step\n",
      "313/313 - 0s - loss: 0.2413 - accuracy: 0.9296 - 219ms/epoch - 700us/step\n",
      "Train / Test Accuracy: 91.1% / 93.0%\n"
     ]
    }
   ],
   "source": [
    "print(\"--Evaluate model--\")\n",
    "model_loss1, model_acc1 = model.evaluate(x_train,  y_train, verbose=2)\n",
    "model_loss2, model_acc2 = model.evaluate(x_test,  y_test, verbose=2)\n",
    "print(f\"Train / Test Accuracy: {model_acc1*100:.1f}% / {model_acc2*100:.1f}%\")\n",
    "model.save(\"notMNIST_partial_model.h5\")"
   ]
  }
 ],
 "metadata": {
  "kernelspec": {
   "display_name": "Python 3.10.6 ('venv')",
   "language": "python",
   "name": "python3"
  },
  "language_info": {
   "codemirror_mode": {
    "name": "ipython",
    "version": 3
   },
   "file_extension": ".py",
   "mimetype": "text/x-python",
   "name": "python",
   "nbconvert_exporter": "python",
   "pygments_lexer": "ipython3",
   "version": "3.10.6"
  },
  "vscode": {
   "interpreter": {
    "hash": "d6d70f9a4759b97e421ee54bae746ca0ce0680c376ae7c2657ef0439157da5f1"
   }
  }
 },
 "nbformat": 4,
 "nbformat_minor": 5
}

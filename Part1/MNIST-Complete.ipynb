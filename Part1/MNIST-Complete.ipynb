{
 "cells": [
  {
   "cell_type": "markdown",
   "id": "d92862b6-bcf2-4ab6-bc47-eaa07c2a015f",
   "metadata": {},
   "source": [
    "#Original Author: Jonathan Hudson\n",
    "#CPSC 501 F22"
   ]
  },
  {
   "cell_type": "code",
   "execution_count": 9,
   "id": "38265ac1-5c33-4324-aedc-155483f53ab8",
   "metadata": {},
   "outputs": [
    {
     "name": "stdout",
     "output_type": "stream",
     "text": [
      "--Get data--\n",
      "--Process data--\n"
     ]
    }
   ],
   "source": [
    "import tensorflow as tf\n",
    "\n",
    "tf.random.set_seed(1234)\n",
    "\n",
    "print(\"--Get data--\")\n",
    "mnist = tf.keras.datasets.mnist\n",
    "(x_train, y_train), (x_test, y_test) = mnist.load_data()\n",
    "\n",
    "print(\"--Process data--\")\n",
    "x_train, x_test = x_train / 255.0, x_test / 255.0"
   ]
  },
  {
   "cell_type": "code",
   "execution_count": 10,
   "id": "b118e511-7d40-4d34-96e0-e403a020d356",
   "metadata": {},
   "outputs": [
    {
     "name": "stdout",
     "output_type": "stream",
     "text": [
      "--Make model--\n",
      "--Fit model--\n",
      "Epoch 1/30\n",
      "1875/1875 - 2s - loss: 0.6982 - accuracy: 0.8104 - 2s/epoch - 887us/step\n",
      "Epoch 2/30\n",
      "1875/1875 - 1s - loss: 0.3124 - accuracy: 0.9107 - 1s/epoch - 777us/step\n",
      "Epoch 3/30\n",
      "1875/1875 - 1s - loss: 0.2583 - accuracy: 0.9245 - 1s/epoch - 773us/step\n",
      "Epoch 4/30\n",
      "1875/1875 - 1s - loss: 0.2235 - accuracy: 0.9352 - 1s/epoch - 776us/step\n",
      "Epoch 5/30\n",
      "1875/1875 - 1s - loss: 0.1982 - accuracy: 0.9428 - 1s/epoch - 769us/step\n",
      "Epoch 6/30\n",
      "1875/1875 - 1s - loss: 0.1788 - accuracy: 0.9480 - 1s/epoch - 775us/step\n",
      "Epoch 7/30\n",
      "1875/1875 - 1s - loss: 0.1629 - accuracy: 0.9523 - 1s/epoch - 757us/step\n",
      "Epoch 8/30\n",
      "1875/1875 - 1s - loss: 0.1492 - accuracy: 0.9565 - 1s/epoch - 767us/step\n",
      "Epoch 9/30\n",
      "1875/1875 - 1s - loss: 0.1373 - accuracy: 0.9600 - 1s/epoch - 767us/step\n",
      "Epoch 10/30\n",
      "1875/1875 - 1s - loss: 0.1279 - accuracy: 0.9632 - 1s/epoch - 759us/step\n",
      "Epoch 11/30\n",
      "1875/1875 - 1s - loss: 0.1198 - accuracy: 0.9646 - 1s/epoch - 766us/step\n",
      "Epoch 12/30\n",
      "1875/1875 - 1s - loss: 0.1124 - accuracy: 0.9674 - 1s/epoch - 776us/step\n",
      "Epoch 13/30\n",
      "1875/1875 - 1s - loss: 0.1057 - accuracy: 0.9692 - 1s/epoch - 738us/step\n",
      "Epoch 14/30\n",
      "1875/1875 - 1s - loss: 0.1000 - accuracy: 0.9712 - 1s/epoch - 767us/step\n",
      "Epoch 15/30\n",
      "1875/1875 - 1s - loss: 0.0949 - accuracy: 0.9725 - 1s/epoch - 770us/step\n",
      "Epoch 16/30\n",
      "1875/1875 - 1s - loss: 0.0898 - accuracy: 0.9739 - 1s/epoch - 775us/step\n",
      "Epoch 17/30\n",
      "1875/1875 - 1s - loss: 0.0854 - accuracy: 0.9754 - 1s/epoch - 774us/step\n",
      "Epoch 18/30\n",
      "1875/1875 - 1s - loss: 0.0815 - accuracy: 0.9762 - 1s/epoch - 776us/step\n",
      "Epoch 19/30\n",
      "1875/1875 - 1s - loss: 0.0779 - accuracy: 0.9778 - 1s/epoch - 767us/step\n",
      "Epoch 20/30\n",
      "1875/1875 - 1s - loss: 0.0745 - accuracy: 0.9788 - 1s/epoch - 768us/step\n",
      "Epoch 21/30\n",
      "1875/1875 - 2s - loss: 0.0715 - accuracy: 0.9797 - 2s/epoch - 803us/step\n",
      "Epoch 22/30\n",
      "1875/1875 - 1s - loss: 0.0685 - accuracy: 0.9807 - 1s/epoch - 783us/step\n",
      "Epoch 23/30\n",
      "1875/1875 - 1s - loss: 0.0655 - accuracy: 0.9815 - 1s/epoch - 787us/step\n",
      "Epoch 24/30\n",
      "1875/1875 - 1s - loss: 0.0628 - accuracy: 0.9821 - 1s/epoch - 772us/step\n",
      "Epoch 25/30\n",
      "1875/1875 - 1s - loss: 0.0605 - accuracy: 0.9829 - 1s/epoch - 780us/step\n",
      "Epoch 26/30\n",
      "1875/1875 - 1s - loss: 0.0583 - accuracy: 0.9837 - 1s/epoch - 789us/step\n",
      "Epoch 27/30\n",
      "1875/1875 - 1s - loss: 0.0556 - accuracy: 0.9847 - 1s/epoch - 775us/step\n",
      "Epoch 28/30\n",
      "1875/1875 - 1s - loss: 0.0537 - accuracy: 0.9852 - 1s/epoch - 768us/step\n",
      "Epoch 29/30\n",
      "1875/1875 - 1s - loss: 0.0517 - accuracy: 0.9857 - 1s/epoch - 779us/step\n",
      "Epoch 30/30\n",
      "1875/1875 - 1s - loss: 0.0500 - accuracy: 0.9862 - 1s/epoch - 770us/step\n"
     ]
    },
    {
     "data": {
      "text/plain": [
       "<keras.callbacks.History at 0x7f20b82bd8d0>"
      ]
     },
     "execution_count": 10,
     "metadata": {},
     "output_type": "execute_result"
    }
   ],
   "source": [
    "print(\"--Make model--\")\n",
    "model = tf.keras.models.Sequential([\n",
    "  tf.keras.layers.Flatten(input_shape=(28, 28)),\n",
    "  tf.keras.layers.Dense(64, activation='relu'),\n",
    "  tf.keras.layers.Dense(64, activation='relu'),\n",
    "  tf.keras.layers.Dense(10, activation='softmax'),\n",
    "])\n",
    "model.compile(optimizer='sgd', loss='sparse_categorical_crossentropy', metrics=['accuracy'])\n",
    "\n",
    "print(\"--Fit model--\")\n",
    "model.fit(x_train, y_train, epochs=30, verbose=2)"
   ]
  },
  {
   "cell_type": "code",
   "execution_count": 11,
   "id": "0386efc2-843f-4805-8f5d-e25125e677dc",
   "metadata": {},
   "outputs": [
    {
     "name": "stdout",
     "output_type": "stream",
     "text": [
      "--Evaluate model--\n",
      "1875/1875 - 1s - loss: 0.0468 - accuracy: 0.9872 - 1s/epoch - 676us/step\n",
      "313/313 - 0s - loss: 0.0868 - accuracy: 0.9740 - 283ms/epoch - 903us/step\n",
      "Train / Test Accuracy: 98.7% / 97.4%\n"
     ]
    }
   ],
   "source": [
    "print(\"--Evaluate model--\")\n",
    "model_loss1, model_acc1 = model.evaluate(x_train,  y_train, verbose=2)\n",
    "model_loss2, model_acc2 = model.evaluate(x_test,  y_test, verbose=2)\n",
    "print(f\"Train / Test Accuracy: {model_acc1*100:.1f}% / {model_acc2*100:.1f}%\")\n",
    "model.save(\"model\", save_format=\"h5\") #Completed model with Train / Test Accuracy: 98.7% / 97.4%"
   ]
  },
  {
   "cell_type": "markdown",
   "id": "4ebc5f34",
   "metadata": {},
   "source": [
    "\n",
    "Report\n",
    "--\n",
    "Getting the accuracy to ~97-98% was much easier than I had initially expected with this dataset. To only modification to hyper paramaters that I made, was that I added two Rectified linear unit activation (RELU) layers to my model. Within these models there tends to be a lot of data that needs to be normalized, and if there is nodes that represent probabilities, we dont want these values to be non-positive. The RELU collapses all these negative values to 0, and I found that adding one got my accuracy to increase, and adding another got it to increase more. Out of fear of over-fitting I did not add anymore. But this did make the model get more out of the data that it was given, which is an improvement.\n",
    "Changes:\n",
    "model = tf.keras.models.Sequential([\n",
    "  tf.keras.layers.Flatten(input_shape=(28, 28)),\n",
    "  tf.keras.layers.Dense(64, activation='relu'),\n",
    "  tf.keras.layers.Dense(64, activation='relu'),\n",
    "  tf.keras.layers.Dense(10, activation='softmax'),\n",
    "])\n",
    "\n",
    "When looking for other ways to improve the starter code, I noticed that the model was only trained for 1 epoch. I decided that this was less than ideal, and made it train for 30 epochs, which was still relatively quick. I found that after 30, there was quite a bit of diminishing returns in the amount of accuracy that it improved and the amount of time that it took for the model to reach new milestones in accuracy.\n",
    "Changes:\n",
    "model.fit(x_train, y_train, epochs=30, verbose=2)\n",
    "\n",
    "Overall, these two simple changes were more than enough to cause the model to blow past the 95% threshold that was required. I think the largest flaw with the model to begin with was that it wasnt normalizing the data that it had, and it also wasnt given enough time to make mistakes and improve on those mistakes with only 1 epoch. I think a basic model such as this, needs at least 10 epochs to be able to analyze data effectively with a large enough dataset. So by fixing those two mistakes, the model is in a much better position.\n",
    "\n",
    "\n",
    "\n"
   ]
  },
  {
   "cell_type": "markdown",
   "id": "11982cf0",
   "metadata": {},
   "source": []
  }
 ],
 "metadata": {
  "kernelspec": {
   "display_name": "Python 3.10.6 ('venv')",
   "language": "python",
   "name": "python3"
  },
  "language_info": {
   "codemirror_mode": {
    "name": "ipython",
    "version": 3
   },
   "file_extension": ".py",
   "mimetype": "text/x-python",
   "name": "python",
   "nbconvert_exporter": "python",
   "pygments_lexer": "ipython3",
   "version": "3.10.6"
  },
  "vscode": {
   "interpreter": {
    "hash": "d6d70f9a4759b97e421ee54bae746ca0ce0680c376ae7c2657ef0439157da5f1"
   }
  }
 },
 "nbformat": 4,
 "nbformat_minor": 5
}
